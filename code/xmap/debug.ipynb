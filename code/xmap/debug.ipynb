{
 "cells": [
  {
   "cell_type": "code",
   "execution_count": 1,
   "metadata": {
    "collapsed": true
   },
   "outputs": [],
   "source": [
    "import pyspark\n",
    "sc = pyspark.SparkContext('local[*]')"
   ]
  },
  {
   "cell_type": "code",
   "execution_count": 7,
   "metadata": {
    "collapsed": false
   },
   "outputs": [
    {
     "name": "stdout",
     "output_type": "stream",
     "text": [
      "The autoreload extension is already loaded. To reload it, use:\n",
      "  %reload_ext autoreload\n"
     ]
    }
   ],
   "source": [
    "%load_ext autoreload\n",
    "%autoreload 2\n",
    "\n",
    "from os.path import join\n",
    "\n",
    "import auxiliary as auxi\n",
    "from cleanData import CleanData\n",
    "from splitData import SplitData"
   ]
  },
  {
   "cell_type": "code",
   "execution_count": 13,
   "metadata": {
    "collapsed": false
   },
   "outputs": [],
   "source": [
    "path_root = \"/home/jovyan/work/data\"\n",
    "path_raw_movie = join(path_root, \"raw/movie.txt\")\n",
    "path_raw_book = join(path_root, \"raw/movie.txt\")\n",
    "path_pickle_movie = join(path_root, \"cache/two_domain/clean_data/movie\")\n",
    "path_pickle_book = join(path_root, \"cache/two_domain/clean_data/book\")"
   ]
  },
  {
   "cell_type": "code",
   "execution_count": 14,
   "metadata": {
    "collapsed": false
   },
   "outputs": [],
   "source": [
    "movieRDD = sc.pickleFile(path_pickle_movie)\n",
    "bookRDD = sc.pickleFile(path_pickle_book)\n",
    "sourceRDD, targetRDD = movieRDD, bookRDD"
   ]
  },
  {
   "cell_type": "code",
   "execution_count": 16,
   "metadata": {
    "collapsed": false
   },
   "outputs": [],
   "source": [
    "split_data = SplitData(num_left=0, ratio_split=0.2, ratio_both=0.8, seed=666)\n",
    "overlap_userRDD = split_data.find_overlap_user(sourceRDD, targetRDD)\n",
    "overlap_userRDD_bd = sc.broadcast(overlap_userRDD.collect())"
   ]
  },
  {
   "cell_type": "code",
   "execution_count": 17,
   "metadata": {
    "collapsed": false
   },
   "outputs": [],
   "source": [
    "non_overlap_sourceRDD, overlap_sourceRDD, \\\n",
    "    non_overlap_targetRDD, overlap_targetRDD = split_data.distinguish_data(\n",
    "        overlap_userRDD_bd, sourceRDD, targetRDD)\n",
    "training_dataRDD, test_dataRDD = split_data.split_data(\n",
    "    non_overlap_sourceRDD, overlap_sourceRDD,\n",
    "    non_overlap_targetRDD, overlap_targetRDD)"
   ]
  },
  {
   "cell_type": "code",
   "execution_count": 22,
   "metadata": {
    "collapsed": false
   },
   "outputs": [
    {
     "data": {
      "text/plain": [
       "[('A390KZKOKI3W0P',\n",
       "  [('SB00005KHNP', 5.0, datetime.datetime(2013, 2, 7, 19, 0)),\n",
       "   ('SB003Z8ZCG6', 5.0, datetime.datetime(2012, 6, 15, 20, 0)),\n",
       "   ('SB0009JOJPY', 5.0, datetime.datetime(2013, 2, 7, 19, 0)),\n",
       "   ('SB00004RPYV', 5.0, datetime.datetime(2013, 2, 7, 19, 0)),\n",
       "   ('SB00004CY5V', 5.0, datetime.datetime(2013, 2, 7, 19, 0)),\n",
       "   ('SB0007LEMM4', 5.0, datetime.datetime(2012, 6, 18, 20, 0)),\n",
       "   ('SB0026L7H20', 5.0, datetime.datetime(2013, 1, 6, 19, 0)),\n",
       "   ('SB0000505IE', 5.0, datetime.datetime(2013, 2, 7, 19, 0)),\n",
       "   ('SB000065SD7', 5.0, datetime.datetime(2013, 2, 7, 19, 0)),\n",
       "   ('SB005WV5G2O', 4.0, datetime.datetime(2012, 3, 4, 19, 0)),\n",
       "   ('SB0002SCZLM', 5.0, datetime.datetime(2012, 6, 18, 20, 0)),\n",
       "   ('SB00004CIS6', 5.0, datetime.datetime(2013, 2, 7, 19, 0)),\n",
       "   ('SB004EPZ03O', 5.0, datetime.datetime(2012, 3, 16, 20, 0)),\n",
       "   ('SB00005NYXL', 5.0, datetime.datetime(2013, 2, 7, 19, 0)),\n",
       "   ('SB000Q1FAAS', 5.0, datetime.datetime(2013, 2, 7, 19, 0)),\n",
       "   ('SB004YHRZKS', 5.0, datetime.datetime(2013, 2, 7, 19, 0)),\n",
       "   ('S7799129883', 4.0, datetime.datetime(2012, 3, 4, 19, 0)),\n",
       "   ('SB00004RYKS', 5.0, datetime.datetime(2013, 2, 7, 19, 0)),\n",
       "   ('SB008YWY0HK', 5.0, datetime.datetime(2012, 6, 24, 20, 0)),\n",
       "   ('SB0054K8O36', 4.0, datetime.datetime(2012, 3, 4, 19, 0)),\n",
       "   ('SB0002IQJ96', 5.0, datetime.datetime(2012, 6, 18, 20, 0)),\n",
       "   ('SB0049P1VHS', 5.0, datetime.datetime(2013, 2, 18, 19, 0)),\n",
       "   ('SB00004RU63', 5.0, datetime.datetime(2013, 2, 7, 19, 0)),\n",
       "   ('TB00004CY5V', 5.0, datetime.datetime(2013, 2, 7, 19, 0)),\n",
       "   ('TB0007LEMM4', 5.0, datetime.datetime(2012, 6, 18, 20, 0)),\n",
       "   ('TB003Z8ZCG6', 5.0, datetime.datetime(2012, 6, 15, 20, 0)),\n",
       "   ('TB004EPZ03O', 5.0, datetime.datetime(2012, 3, 16, 20, 0)),\n",
       "   ('TB00004RU63', 5.0, datetime.datetime(2013, 2, 7, 19, 0)),\n",
       "   ('T7799129883', 4.0, datetime.datetime(2012, 3, 4, 19, 0)),\n",
       "   ('TB0054K8O36', 4.0, datetime.datetime(2012, 3, 4, 19, 0)),\n",
       "   ('TB0000505IE', 5.0, datetime.datetime(2013, 2, 7, 19, 0)),\n",
       "   ('TB004YHRZKS', 5.0, datetime.datetime(2013, 2, 7, 19, 0)),\n",
       "   ('TB0002IQJ96', 5.0, datetime.datetime(2012, 6, 18, 20, 0)),\n",
       "   ('TB000065SD7', 5.0, datetime.datetime(2013, 2, 7, 19, 0)),\n",
       "   ('TB0026L7H20', 5.0, datetime.datetime(2013, 1, 6, 19, 0)),\n",
       "   ('TB0049P1VHS', 5.0, datetime.datetime(2013, 2, 18, 19, 0)),\n",
       "   ('TB00004RPYV', 5.0, datetime.datetime(2013, 2, 7, 19, 0)),\n",
       "   ('TB00005NYXL', 5.0, datetime.datetime(2013, 2, 7, 19, 0)),\n",
       "   ('TB000Q1FAAS', 5.0, datetime.datetime(2013, 2, 7, 19, 0)),\n",
       "   ('TB0002SCZLM', 5.0, datetime.datetime(2012, 6, 18, 20, 0)),\n",
       "   ('TB00004CIS6', 5.0, datetime.datetime(2013, 2, 7, 19, 0)),\n",
       "   ('TB00005KHNP', 5.0, datetime.datetime(2013, 2, 7, 19, 0)),\n",
       "   ('TB008YWY0HK', 5.0, datetime.datetime(2012, 6, 24, 20, 0)),\n",
       "   ('TB0009JOJPY', 5.0, datetime.datetime(2013, 2, 7, 19, 0)),\n",
       "   ('TB00004RYKS', 5.0, datetime.datetime(2013, 2, 7, 19, 0)),\n",
       "   ('TB005WV5G2O', 4.0, datetime.datetime(2012, 3, 4, 19, 0))]),\n",
       " ('A29FW5PHDLUH8X',\n",
       "  [('SB000A11ISC', 5.0, datetime.datetime(2013, 1, 6, 19, 0)),\n",
       "   ('SB004ASK9J0', 5.0, datetime.datetime(2013, 1, 6, 19, 0)),\n",
       "   ('SB000050GAU', 5.0, datetime.datetime(2013, 1, 6, 19, 0)),\n",
       "   ('SB00004RNRS', 5.0, datetime.datetime(2013, 1, 6, 19, 0)),\n",
       "   ('SB00008T5OK', 5.0, datetime.datetime(2013, 1, 6, 19, 0)),\n",
       "   ('SB000067JG4', 5.0, datetime.datetime(2013, 1, 6, 19, 0)),\n",
       "   ('SB00005AA0L', 5.0, datetime.datetime(2013, 1, 6, 19, 0)),\n",
       "   ('S5559395145', 5.0, datetime.datetime(2013, 1, 6, 19, 0)),\n",
       "   ('S630314599X', 5.0, datetime.datetime(2013, 1, 6, 19, 0)),\n",
       "   ('SB000056YPR', 5.0, datetime.datetime(2013, 1, 6, 19, 0)),\n",
       "   ('SB0069GZUKY', 5.0, datetime.datetime(2013, 1, 6, 19, 0)),\n",
       "   ('S5553627788', 5.0, datetime.datetime(2013, 1, 6, 19, 0)),\n",
       "   ('SB00004CK1U', 5.0, datetime.datetime(2013, 1, 6, 19, 0)),\n",
       "   ('SB00008F43H', 5.0, datetime.datetime(2013, 1, 6, 19, 0)),\n",
       "   ('SB005KR6OBM', 5.0, datetime.datetime(2013, 1, 6, 19, 0)),\n",
       "   ('TB000056YPR', 5.0, datetime.datetime(2013, 1, 6, 19, 0)),\n",
       "   ('T5553627788', 5.0, datetime.datetime(2013, 1, 6, 19, 0)),\n",
       "   ('TB000067JG4', 5.0, datetime.datetime(2013, 1, 6, 19, 0)),\n",
       "   ('TB000A11ISC', 5.0, datetime.datetime(2013, 1, 6, 19, 0)),\n",
       "   ('TB000050GAU', 5.0, datetime.datetime(2013, 1, 6, 19, 0)),\n",
       "   ('TB00008F43H', 5.0, datetime.datetime(2013, 1, 6, 19, 0)),\n",
       "   ('T630314599X', 5.0, datetime.datetime(2013, 1, 6, 19, 0)),\n",
       "   ('T5559395145', 5.0, datetime.datetime(2013, 1, 6, 19, 0)),\n",
       "   ('TB00008T5OK', 5.0, datetime.datetime(2013, 1, 6, 19, 0)),\n",
       "   ('TB004ASK9J0', 5.0, datetime.datetime(2013, 1, 6, 19, 0)),\n",
       "   ('TB00004RNRS', 5.0, datetime.datetime(2013, 1, 6, 19, 0)),\n",
       "   ('TB005KR6OBM', 5.0, datetime.datetime(2013, 1, 6, 19, 0)),\n",
       "   ('TB00005AA0L', 5.0, datetime.datetime(2013, 1, 6, 19, 0)),\n",
       "   ('TB0069GZUKY', 5.0, datetime.datetime(2013, 1, 6, 19, 0)),\n",
       "   ('TB00004CK1U', 5.0, datetime.datetime(2013, 1, 6, 19, 0))]),\n",
       " ('A3GRG37SIQNOPS',\n",
       "  [('SB00006IIY1', 5.0, datetime.datetime(2012, 7, 10, 20, 0)),\n",
       "   ('SB00007JQTJ', 5.0, datetime.datetime(2012, 7, 10, 20, 0)),\n",
       "   ('SB000KLQUS0', 5.0, datetime.datetime(2012, 11, 26, 19, 0)),\n",
       "   ('SB000068TSH', 5.0, datetime.datetime(2012, 7, 10, 20, 0)),\n",
       "   ('SB000068TPN', 5.0, datetime.datetime(2012, 7, 10, 20, 0)),\n",
       "   ('SB00007JQTI', 5.0, datetime.datetime(2012, 7, 10, 20, 0)),\n",
       "   ('SB00006BT9R', 5.0, datetime.datetime(2012, 7, 10, 20, 0)),\n",
       "   ('TB00007JQTI', 5.0, datetime.datetime(2012, 7, 10, 20, 0)),\n",
       "   ('TB00007JQTJ', 5.0, datetime.datetime(2012, 7, 10, 20, 0)),\n",
       "   ('TB00006IIY1', 5.0, datetime.datetime(2012, 7, 10, 20, 0)),\n",
       "   ('TB000068TPN', 5.0, datetime.datetime(2012, 7, 10, 20, 0)),\n",
       "   ('TB000KLQUS0', 5.0, datetime.datetime(2012, 11, 26, 19, 0)),\n",
       "   ('TB00006BT9R', 5.0, datetime.datetime(2012, 7, 10, 20, 0)),\n",
       "   ('TB000068TSH', 5.0, datetime.datetime(2012, 7, 10, 20, 0))]),\n",
       " ('A2Z4QNS1WUIR5Q',\n",
       "  [('SB003K49V30', 5.0, datetime.datetime(2012, 10, 26, 20, 0)),\n",
       "   ('SB00004VYMK', 5.0, datetime.datetime(2012, 10, 26, 20, 0)),\n",
       "   ('SB00004S5KI', 5.0, datetime.datetime(2012, 10, 26, 20, 0)),\n",
       "   ('S6303443230', 5.0, datetime.datetime(2012, 10, 26, 20, 0)),\n",
       "   ('SB00004CYGY', 5.0, datetime.datetime(2012, 10, 26, 20, 0)),\n",
       "   ('S6305056048', 5.0, datetime.datetime(2012, 10, 26, 20, 0)),\n",
       "   ('SB00004CQTN', 5.0, datetime.datetime(2012, 10, 26, 20, 0)),\n",
       "   ('SB00004RYAO', 5.0, datetime.datetime(2012, 10, 26, 20, 0)),\n",
       "   ('SB00004CWNI', 5.0, datetime.datetime(2012, 10, 26, 20, 0)),\n",
       "   ('TB00004CYGY', 5.0, datetime.datetime(2012, 10, 26, 20, 0)),\n",
       "   ('T6303443230', 5.0, datetime.datetime(2012, 10, 26, 20, 0)),\n",
       "   ('T6305056048', 5.0, datetime.datetime(2012, 10, 26, 20, 0)),\n",
       "   ('TB00004S5KI', 5.0, datetime.datetime(2012, 10, 26, 20, 0)),\n",
       "   ('TB00004RYAO', 5.0, datetime.datetime(2012, 10, 26, 20, 0)),\n",
       "   ('TB003K49V30', 5.0, datetime.datetime(2012, 10, 26, 20, 0)),\n",
       "   ('TB00004CQTN', 5.0, datetime.datetime(2012, 10, 26, 20, 0)),\n",
       "   ('TB00004CWNI', 5.0, datetime.datetime(2012, 10, 26, 20, 0)),\n",
       "   ('TB00004VYMK', 5.0, datetime.datetime(2012, 10, 26, 20, 0))]),\n",
       " ('A2QXIDRAO6W1S0',\n",
       "  [('SB000AA4FEM', 4.0, datetime.datetime(2013, 1, 24, 19, 0)),\n",
       "   ('SB00004I9PK', 5.0, datetime.datetime(2012, 5, 19, 20, 0)),\n",
       "   ('SB00004I9MX', 5.0, datetime.datetime(2012, 5, 19, 20, 0)),\n",
       "   ('SB00001U0DP', 2.0, datetime.datetime(2012, 11, 4, 19, 0)),\n",
       "   ('SB00008OP15', 5.0, datetime.datetime(2012, 5, 28, 20, 0)),\n",
       "   ('SB00074DXUS', 5.0, datetime.datetime(2013, 1, 24, 19, 0)),\n",
       "   ('SB00008XKXO', 2.0, datetime.datetime(2012, 8, 25, 20, 0)),\n",
       "   ('SB000062XE6', 5.0, datetime.datetime(2012, 5, 28, 20, 0)),\n",
       "   ('SB00008DI5Z', 5.0, datetime.datetime(2012, 5, 19, 20, 0)),\n",
       "   ('SB0002ADWR6', 5.0, datetime.datetime(2012, 9, 15, 20, 0)),\n",
       "   ('SB003102JDM', 3.0, datetime.datetime(2013, 2, 17, 19, 0)),\n",
       "   ('SB00004VYBJ', 2.0, datetime.datetime(2012, 11, 4, 19, 0)),\n",
       "   ('SB004PMFI7O', 2.0, datetime.datetime(2012, 11, 4, 19, 0)),\n",
       "   ('SB00008XKXN', 2.0, datetime.datetime(2012, 8, 25, 20, 0)),\n",
       "   ('SB00004VYBU', 2.0, datetime.datetime(2012, 11, 4, 19, 0)),\n",
       "   ('SB00005UWUO', 5.0, datetime.datetime(2012, 5, 28, 20, 0)),\n",
       "   ('SB000JD821M', 5.0, datetime.datetime(2012, 9, 25, 20, 0)),\n",
       "   ('SB00004RWRP', 2.0, datetime.datetime(2012, 11, 4, 19, 0)),\n",
       "   ('SB000UH9ZCW', 5.0, datetime.datetime(2012, 5, 28, 20, 0)),\n",
       "   ('SB0000C6654', 5.0, datetime.datetime(2012, 9, 25, 20, 0)),\n",
       "   ('SB00005JNDE', 4.0, datetime.datetime(2013, 1, 24, 19, 0)),\n",
       "   ('SB00004D095', 2.0, datetime.datetime(2012, 11, 4, 19, 0)),\n",
       "   ('SB00008F27K', 5.0, datetime.datetime(2012, 5, 19, 20, 0)),\n",
       "   ('SB00004CN1H', 2.0, datetime.datetime(2012, 6, 15, 20, 0)),\n",
       "   ('SB007JE9SGW', 5.0, datetime.datetime(2012, 5, 28, 20, 0)),\n",
       "   ('SB001E0AHJY', 2.0, datetime.datetime(2012, 11, 4, 19, 0)),\n",
       "   ('SB00004ROHP', 5.0, datetime.datetime(2012, 5, 28, 20, 0)),\n",
       "   ('SB000F0V0OK', 2.0, datetime.datetime(2012, 6, 15, 20, 0)),\n",
       "   ('SB00007KGC8', 2.0, datetime.datetime(2012, 8, 25, 20, 0)),\n",
       "   ('SB00007KGC7', 2.0, datetime.datetime(2012, 8, 25, 20, 0)),\n",
       "   ('SB005PJCBKI', 2.0, datetime.datetime(2012, 11, 4, 19, 0)),\n",
       "   ('TB00007KGC7', 2.0, datetime.datetime(2012, 8, 25, 20, 0)),\n",
       "   ('TB00008F27K', 5.0, datetime.datetime(2012, 5, 19, 20, 0)),\n",
       "   ('TB000UH9ZCW', 5.0, datetime.datetime(2012, 5, 28, 20, 0)),\n",
       "   ('TB00007KGC8', 2.0, datetime.datetime(2012, 8, 25, 20, 0)),\n",
       "   ('TB001E0AHJY', 2.0, datetime.datetime(2012, 11, 4, 19, 0)),\n",
       "   ('TB00004VYBJ', 2.0, datetime.datetime(2012, 11, 4, 19, 0)),\n",
       "   ('TB00004D095', 2.0, datetime.datetime(2012, 11, 4, 19, 0)),\n",
       "   ('TB0000C6654', 5.0, datetime.datetime(2012, 9, 25, 20, 0)),\n",
       "   ('TB00008XKXN', 2.0, datetime.datetime(2012, 8, 25, 20, 0)),\n",
       "   ('TB004PMFI7O', 2.0, datetime.datetime(2012, 11, 4, 19, 0)),\n",
       "   ('TB00004CN1H', 2.0, datetime.datetime(2012, 6, 15, 20, 0)),\n",
       "   ('TB00005JNDE', 4.0, datetime.datetime(2013, 1, 24, 19, 0)),\n",
       "   ('TB000AA4FEM', 4.0, datetime.datetime(2013, 1, 24, 19, 0)),\n",
       "   ('TB00001U0DP', 2.0, datetime.datetime(2012, 11, 4, 19, 0)),\n",
       "   ('TB000062XE6', 5.0, datetime.datetime(2012, 5, 28, 20, 0)),\n",
       "   ('TB00004I9PK', 5.0, datetime.datetime(2012, 5, 19, 20, 0)),\n",
       "   ('TB005PJCBKI', 2.0, datetime.datetime(2012, 11, 4, 19, 0)),\n",
       "   ('TB000F0V0OK', 2.0, datetime.datetime(2012, 6, 15, 20, 0)),\n",
       "   ('TB00004I9MX', 5.0, datetime.datetime(2012, 5, 19, 20, 0)),\n",
       "   ('TB007JE9SGW', 5.0, datetime.datetime(2012, 5, 28, 20, 0)),\n",
       "   ('TB00004ROHP', 5.0, datetime.datetime(2012, 5, 28, 20, 0)),\n",
       "   ('TB003102JDM', 3.0, datetime.datetime(2013, 2, 17, 19, 0)),\n",
       "   ('TB00005UWUO', 5.0, datetime.datetime(2012, 5, 28, 20, 0)),\n",
       "   ('TB0002ADWR6', 5.0, datetime.datetime(2012, 9, 15, 20, 0)),\n",
       "   ('TB00008XKXO', 2.0, datetime.datetime(2012, 8, 25, 20, 0)),\n",
       "   ('TB00008OP15', 5.0, datetime.datetime(2012, 5, 28, 20, 0)),\n",
       "   ('TB00004VYBU', 2.0, datetime.datetime(2012, 11, 4, 19, 0)),\n",
       "   ('TB000JD821M', 5.0, datetime.datetime(2012, 9, 25, 20, 0)),\n",
       "   ('TB00004RWRP', 2.0, datetime.datetime(2012, 11, 4, 19, 0)),\n",
       "   ('TB00008DI5Z', 5.0, datetime.datetime(2012, 5, 19, 20, 0)),\n",
       "   ('TB00074DXUS', 5.0, datetime.datetime(2013, 1, 24, 19, 0))])]"
      ]
     },
     "execution_count": 22,
     "metadata": {},
     "output_type": "execute_result"
    }
   ],
   "source": [
    "unionRDD = overlap_sourceRDD.union(overlap_targetRDD)\n",
    "\n",
    "seq_op = (lambda a, b: a + b)\n",
    "comb_op = (lambda a, b: a + b)\n",
    "groupedRDD = dataRDD.aggregateByKey([], seq_op, comb_op)"
   ]
  },
  {
   "cell_type": "code",
   "execution_count": null,
   "metadata": {
    "collapsed": true
   },
   "outputs": [],
   "source": []
  }
 ],
 "metadata": {
  "kernelspec": {
   "display_name": "Python 3",
   "language": "python",
   "name": "python3"
  },
  "language_info": {
   "codemirror_mode": {
    "name": "ipython",
    "version": 3
   },
   "file_extension": ".py",
   "mimetype": "text/x-python",
   "name": "python",
   "nbconvert_exporter": "python",
   "pygments_lexer": "ipython3",
   "version": "3.5.2"
  }
 },
 "nbformat": 4,
 "nbformat_minor": 1
}

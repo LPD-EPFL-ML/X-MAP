{
 "cells": [
  {
   "cell_type": "code",
   "execution_count": 1,
   "metadata": {
    "collapsed": true
   },
   "outputs": [],
   "source": [
    "import pyspark\n",
    "sc = pyspark.SparkContext('local[*]')"
   ]
  },
  {
   "cell_type": "code",
   "execution_count": 2,
   "metadata": {
    "collapsed": false
   },
   "outputs": [],
   "source": [
    "%load_ext autoreload\n",
    "%autoreload 2\n",
    "\n",
    "from os.path import join\n",
    "\n",
    "import numpy as np\n",
    "\n",
    "from pyspark.sql import SQLContext"
   ]
  },
  {
   "cell_type": "code",
   "execution_count": 102,
   "metadata": {
    "collapsed": false
   },
   "outputs": [],
   "source": [
    "path_root = \"/home/tlin/notebooks/data\"\n",
    "path_pickle_train = join(\n",
    "    path_root, \"cache/two_domain/split_data/train\")\n",
    "path_pickle_test = join(\n",
    "    path_root, \"cache/two_domain/split_data/test\")\n",
    "path_pickle_baseline_sim = join(\n",
    "    path_root, \"cache/two_domain/item_based_sim/base_sim\")\n",
    "path_pickle_extended_sim = join(\n",
    "    path_root, \"cache/two_domain/extend_sim/extendsim\")\n",
    "path_pickle_private_mapped_sim = join(\n",
    "    path_root, \"cache/two_domain/private_mapping/privatemap\")\n",
    "path_pickle_nonprivate_mapped_sim = join(\n",
    "    path_root, \"cache/two_domain/private_mapping/nonprivatemap\")\n",
    "path_pickle_userbased_alterEgo = join(\n",
    "    path_root, \"cache/two_domain/cross_sim/user_based_alterEgo\")\n",
    "path_pickle_itembased_alterEgo = join(\n",
    "    path_root, \"cache/two_domain/cross_sim/item_based_alterEgo\")\n",
    "path_pickle_alterEgo_userbased_sim = join(\n",
    "    path_root, \"cache/two_domain/cross_sim/targetdomain_userbased_sim\")\n",
    "path_pickle_alterEgo_itembased_sim = join(\n",
    "    path_root, \"cache/two_domain/cross_sim/targetdomain_itembased_sim\")\n",
    "path_pickle_private_policy_userbased_sim = join(\n",
    "    path_root, \"cache/two_domain/policy/policy_userbased_sim\")\n",
    "path_pickle_private_policy_itembased_sim = join(\n",
    "    path_root, \"cache/two_domain/policy/policy_itembased_sim\")"
   ]
  },
  {
   "cell_type": "code",
   "execution_count": 103,
   "metadata": {
    "collapsed": false
   },
   "outputs": [],
   "source": [
    "train_dataRDD = sc.pickleFile(path_pickle_train).cache()\n",
    "test_dataRDD = sc.pickleFile(path_pickle_test).cache()\n",
    "\n",
    "alterEgo_userbased_sim = sc.pickleFile(path_pickle_alterEgo_userbased_sim).cache()\n",
    "alterEgo_itembased_sim = sc.pickleFile(path_pickle_alterEgo_itembased_sim).cache()\n",
    "\n",
    "userbased_sim_pair = sc.pickleFile(path_pickle_private_policy_userbased_sim).cache()\n",
    "itembased_sim_pair = sc.pickleFile(path_pickle_private_policy_itembased_sim).cache()"
   ]
  },
  {
   "cell_type": "code",
   "execution_count": 105,
   "metadata": {
    "collapsed": false
   },
   "outputs": [],
   "source": [
    "item_based_alterEgo = sc.pickleFile(path_pickle_itembased_alterEgo).cache()\n",
    "user_based_alterEgo = sc.pickleFile(path_pickle_userbased_alterEgo).cache()\n",
    "\n",
    "user_based_dict_bd = sc.broadcast(user_based_alterEgo.collectAsMap())\n",
    "item_based_dict_bd = sc.broadcast(item_based_alterEgo.collectAsMap())\n",
    "\n",
    "userbased_sim_pair_dict_bd  = sc.broadcast(userbased_sim_pair.collectAsMap())\n",
    "itembased_sim_pair_dict_bd  = sc.broadcast(itembased_sim_pair.collectAsMap())\n"
   ]
  },
  {
   "cell_type": "code",
   "execution_count": 106,
   "metadata": {
    "collapsed": false
   },
   "outputs": [],
   "source": [
    "    def get_info(dataRDD):\n",
    "        \"\"\"get the information of RDD, either item or user.\n",
    "        Args:\n",
    "            dataRDD could either be userRDD or itemRDD.\n",
    "            userRDD: (uid, (iid, rating, rating time)*)\n",
    "            itemRDD: (iid, (uid, rating, rating time)*)\n",
    "        Returns:\n",
    "            info of the input RDD:\n",
    "                (uid, (average, norm2, count))* or\n",
    "                (iid, (average, norm2, count))* or\n",
    "        \"\"\"\n",
    "        def norm2(ratings):\n",
    "            \"\"\"calculate the norm 2 of input ratings.\n",
    "            Args:\n",
    "                ratings: (iid, rating, rating time)*\n",
    "            Returns:\n",
    "                norm of ratings.\n",
    "            \"\"\"\n",
    "            return np.sqrt(np.sum([rating[1] ** 2 for rating in ratings]))\n",
    "\n",
    "        def average(ratings):\n",
    "            \"\"\"calculate the average of the ratings.\n",
    "            Args:\n",
    "                ratings: (iid, rating, rating time)*\n",
    "            Returns:\n",
    "                average of ratings.\n",
    "            \"\"\"\n",
    "            return 1.0 * np.average([rating[1] for rating in ratings])\n",
    "\n",
    "        def helper(line):\n",
    "            \"\"\"a helper function.\"\"\"\n",
    "            uid, ratings = line\n",
    "            return uid, (average(ratings), norm2(ratings), len(ratings))\n",
    "        return dataRDD.map(helper)\n",
    "\n",
    "\n",
    "user_info = get_info(user_based_alterEgo)\n",
    "item_info = get_info(item_based_alterEgo)\n",
    "\n",
    "user_info_bd = sc.broadcast(user_info.collectAsMap())\n",
    "item_info_bd = sc.broadcast(item_info.collectAsMap())"
   ]
  },
  {
   "cell_type": "code",
   "execution_count": 108,
   "metadata": {
    "collapsed": false
   },
   "outputs": [],
   "source": [
    "user_based_dict_bd, userbased_sim_pair_dict_bd, user_info_bd \\\n",
    "    = user_based_dict_bd, userbased_sim_pair_dict_bd, user_info_bd"
   ]
  },
  {
   "cell_type": "code",
   "execution_count": 113,
   "metadata": {
    "collapsed": false
   },
   "outputs": [
    {
     "data": {
      "text/plain": [
       "[('A1TCIVMGCPMV6R',\n",
       "  [('T:B003T2YI8G', 2.0, 2.0),\n",
       "   ('T:B00004CY4P', 2.0, 2.0),\n",
       "   ('T:B00004WZJJ', 4.0, 2.0),\n",
       "   ('T:B00005LC8T', 4.0, 2.0),\n",
       "   ('T:B000006FKR', 2.0, 2.0),\n",
       "   ('T:B000A6UN3I', 2.0, 2.0),\n",
       "   ('T:B00004U8ND', 4.0, 2.0),\n",
       "   ('T:B00004CJ7D', 2.0, 2.0),\n",
       "   ('T:630100843X', 2.0, 2.0),\n",
       "   ('T:B00005JL1V', 2.0, 2.0),\n",
       "   ('T:B00004RM5O', 2.0, 2.0),\n",
       "   ('T:B000006G1C', 4.0, 2.0),\n",
       "   ('T:B00005LW40', 4.0, 2.0),\n",
       "   ('T:B00004CL0L', 4.0, 2.0),\n",
       "   ('T:B00004CKAR', 2.0, 2.0),\n",
       "   ('T:B00004TXKD', 4.0, 2.0)])]"
      ]
     },
     "execution_count": 113,
     "metadata": {},
     "output_type": "execute_result"
    }
   ],
   "source": [
    "    def bound_rating(rating):\n",
    "        \"\"\"bound the value of rating.\n",
    "            If the predicted rating is out of range,\n",
    "            i.e., < 0 or > 5, then, adjust it to the closest bound.\n",
    "        \"\"\"\n",
    "        return 1.0 * max(0, min(int(rating + 0.5), 5))\n",
    "\n",
    "    def user_based_prediction(line, rating_bd, sim_bd, user_bd):\n",
    "        \"\"\"Use this function to predict the rating of item for this user.\n",
    "        Args:\n",
    "            line: (uid, pairs)\n",
    "                where pairs in the format of (iid, rating, time)*\n",
    "            rating_bd: broadcast of {uid: [(iid1, rating1, time1)*]}*\n",
    "            sim_bd: broadcast of {uid: [(uid, sim)*]}*\n",
    "            user_bd: broadcast pf {uid: (average, norm, count)}*\n",
    "        \"\"\"\n",
    "        def prediction(pair, uid_allneighbor_info, user_bd, uid):\n",
    "            \"\"\"do the prediction. It can either add decay rate or not,\n",
    "                which is decided by `method`.\n",
    "            Args:\n",
    "                pair: (iid, rating, time)\n",
    "                uid_allneighbor_info: (uid, sim, rating_record)*\n",
    "                average_uid: average rating of current uid.\n",
    "            \"\"\"\n",
    "            iid, real_rating, time = pair\n",
    "            average_uid_rating = user_bd.value[uid][0]\n",
    "            sim_rating = []\n",
    "            for info in uid_allneighbor_info:\n",
    "                uid, sim, ratings = info\n",
    "                sim_rating += [\n",
    "                    (rating[0], sim, rating[1] - average_uid_rating)\n",
    "                    for rating in ratings if iid in rating[0]]\n",
    "\n",
    "            if len(sim_rating) != 0:\n",
    "                sim_rating = [\n",
    "                    (line[0], line[1] * line[2], abs(line[1]))\n",
    "                    for line in sim_rating]\n",
    "                predicted_rating = average_uid_rating + sum(\n",
    "                    map(lambda line: line[1], sim_rating)) / sum(\n",
    "                    map(lambda line: line[2], sim_rating))\n",
    "            else:\n",
    "                predicted_rating = average_uid_rating\n",
    "            return iid, real_rating, bound_rating(predicted_rating)\n",
    "\n",
    "        uid, pairs = line\n",
    "        uid_allneighbor_info = [\n",
    "            (u[0], u[1], rating_bd.value[u[0]]) for u in sim_bd.value[uid]]\n",
    "        return uid, [prediction(\n",
    "            pair, uid_allneighbor_info, user_bd, uid) for pair in pairs]\n",
    "    \n",
    "sim_pair_dict_keys = set(sim_pair_dict_bd.value.keys())\n",
    "result = test_dataRDD.filter(\n",
    "    lambda line: line[0] in sim_pair_dict_keys).map(\n",
    "    lambda line: user_based_prediction(\n",
    "        line, user_based_dict_bd,\n",
    "            userbased_sim_pair_dict_bd, user_info_bd))"
   ]
  },
  {
   "cell_type": "code",
   "execution_count": 114,
   "metadata": {
    "collapsed": false
   },
   "outputs": [
    {
     "data": {
      "text/plain": [
       "[('A1TCIVMGCPMV6R',\n",
       "  [('T:B003T2YI8G', 2.0, 5.0, 5.0),\n",
       "   ('T:B00004CY4P', 2.0, 4.0, 4.0),\n",
       "   ('T:B00004WZJJ', 4.0, 5.0, 5.0),\n",
       "   ('T:B00005LC8T', 4.0, 5.0, 5.0),\n",
       "   ('T:B000006FKR', 2.0, 4.0, 4.0),\n",
       "   ('T:B000A6UN3I', 2.0, 4.0, 4.0),\n",
       "   ('T:B00004U8ND', 4.0, 5.0, 5.0),\n",
       "   ('T:B00004CJ7D', 2.0, 4.0, 4.0),\n",
       "   ('T:630100843X', 2.0, 5.0, 5.0),\n",
       "   ('T:B00005JL1V', 2.0, 4.0, 4.0),\n",
       "   ('T:B00004RM5O', 2.0, 4.0, 4.0),\n",
       "   ('T:B000006G1C', 4.0, 5.0, 5.0),\n",
       "   ('T:B00005LW40', 4.0, 5.0, 5.0),\n",
       "   ('T:B00004CL0L', 4.0, 5.0, 5.0),\n",
       "   ('T:B00004CKAR', 2.0, 5.0, 5.0),\n",
       "   ('T:B00004TXKD', 4.0, 5.0, 5.0)])]"
      ]
     },
     "execution_count": 114,
     "metadata": {},
     "output_type": "execute_result"
    }
   ],
   "source": [
    "    def item_based_prediction(line, rating_bd, sim_bd, item_bd):\n",
    "        \"\"\"predict the rating of item for a specific user.\n",
    "        Args:\n",
    "            line: (uid, pairs),\n",
    "                where pairs: in the format of (iid, rating, time)*\n",
    "            rating_bd: broadcast of {uid: [(iid1, rating1, time1)*]}\n",
    "            sim_bd: broadcast of {iid: [(iid, sim)*]}\n",
    "            item_bd: broadcast of {iid: (average, norm, length)}\n",
    "        \"\"\"\n",
    "        def sort_by_time(pairs):\n",
    "            \"\"\"For each user, sort its rating records based on its datetime.\n",
    "                More specifically, if time_a > time_b,\n",
    "                    then: time_a <- x, time_b <- x + 1.\n",
    "            \"\"\"\n",
    "            pairs = sorted(pairs, key=lambda line: line[2], reverse=False)\n",
    "            order = 0\n",
    "            out = []\n",
    "            for i in xrange(len(pairs)):\n",
    "                if i != 0 and pairs[i][2] == pairs[i - 1][2]:\n",
    "                    out += [(pairs[i][0], pairs[i][1], order)]\n",
    "                else:\n",
    "                    order += 1\n",
    "                    out += [(pairs[i][0], pairs[i][1], order)]\n",
    "            return out\n",
    "\n",
    "        def f_decay(cur, t_ui):\n",
    "            return np.exp(- 0.1 * (cur - t_ui))\n",
    "\n",
    "        def add_decay(pairs):\n",
    "            \"\"\"add decay rate to the pairs.\n",
    "            Args:\n",
    "                pairs:    sim * rating, sim, time\n",
    "            \"\"\"\n",
    "            new_pairs = sort_by_time(pairs)\n",
    "            current_time = max(map(lambda line: line[2], new_pairs)) + 1\n",
    "            final_pairs = [\n",
    "                (pair[0] * f_decay(current_time, pair[2]),\n",
    "                 pair[1] * f_decay(current_time, pair[2]))\n",
    "                for pair in new_pairs]\n",
    "            return sum(map(lambda line: line[0], final_pairs)) / sum(\n",
    "                map(lambda line: line[1], final_pairs))\n",
    "\n",
    "        def prediction(uid, pair, rating_bd, sim_bd, item_bd):\n",
    "            \"\"\"do the prediction. It can either add decay rate or not,\n",
    "                which is decided by `method`.\n",
    "            \"\"\"\n",
    "            iid, real_rating = pair[0], pair[1]\n",
    "            if iid not in sim_bd.value.keys():\n",
    "                return ()\n",
    "            iid_neighbors = [\n",
    "                (i[0], i[1], rating_bd.value[i[0]]) for i in sim_bd.value[iid]]\n",
    "            average_iid_rating = item_bd.value[iid][0]\n",
    "            sim_rating = []\n",
    "            for info in iid_neighbors:\n",
    "                sim_rating += [\n",
    "                    (iid, info[1], i[1] - item_bd.value[info[0]][0], i[2])\n",
    "                    for i in info[2] if uid in i[0]]\n",
    "            if len(sim_rating) != 0:\n",
    "                sim_ratings = [\n",
    "                    (line[1] * line[2], abs(line[1]), line[3])\n",
    "                    for line in sim_rating]\n",
    "                predicted_rating_no_decay = average_iid_rating + sum(\n",
    "                    map(lambda line: line[0], sim_ratings)) / sum(\n",
    "                    map(lambda line: line[1], sim_ratings))\n",
    "                predicted_rating_decay = \\\n",
    "                    average_iid_rating + add_decay(sim_ratings)\n",
    "            else:\n",
    "                predicted_rating_no_decay = average_iid_rating\n",
    "                predicted_rating_decay = average_iid_rating\n",
    "            return iid, real_rating, \\\n",
    "                bound_rating(predicted_rating_no_decay), \\\n",
    "                bound_rating(predicted_rating_decay)\n",
    "\n",
    "        uid, pairs = line\n",
    "        return uid, [\n",
    "            prediction(uid, pair, rating_bd, sim_bd, item_bd)\n",
    "            for pair in pairs]\n",
    "    \n",
    "test = test_dataRDD.map(\n",
    "    lambda line: item_based_prediction(\n",
    "        line, item_based_dict_bd, itembased_sim_pair_dict_bd, item_info_bd))\n",
    "test.take(1)"
   ]
  },
  {
   "cell_type": "code",
   "execution_count": null,
   "metadata": {
    "collapsed": true
   },
   "outputs": [],
   "source": []
  }
 ],
 "metadata": {
  "kernelspec": {
   "display_name": "Python 3",
   "language": "python",
   "name": "python3"
  },
  "language_info": {
   "codemirror_mode": {
    "name": "ipython",
    "version": 3
   },
   "file_extension": ".py",
   "mimetype": "text/x-python",
   "name": "python",
   "nbconvert_exporter": "python",
   "pygments_lexer": "ipython3",
   "version": "3.5.2"
  }
 },
 "nbformat": 4,
 "nbformat_minor": 1
}

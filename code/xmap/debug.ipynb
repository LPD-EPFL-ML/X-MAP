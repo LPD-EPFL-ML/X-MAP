{
 "cells": [
  {
   "cell_type": "code",
   "execution_count": 1,
   "metadata": {
    "collapsed": true
   },
   "outputs": [],
   "source": [
    "import pyspark\n",
    "sc = pyspark.SparkContext('local[*]')"
   ]
  },
  {
   "cell_type": "code",
   "execution_count": 2,
   "metadata": {
    "collapsed": false
   },
   "outputs": [],
   "source": [
    "%load_ext autoreload\n",
    "%autoreload 2\n",
    "\n",
    "from os.path import join\n",
    "\n",
    "import auxiliary as auxi\n",
    "from cleanData import CleanData\n",
    "from splitData import SplitData\n",
    "from itemBasedSim import ItemBasedSim\n",
    "from extender import ExtendSim\n",
    "\n",
    "from pyspark.sql import SQLContext"
   ]
  },
  {
   "cell_type": "code",
   "execution_count": 3,
   "metadata": {
    "collapsed": false
   },
   "outputs": [],
   "source": [
    "path_root = \"/home/jovyan/work/data\"\n",
    "path_pickle_train = join(path_root, \"cache/two_domain/split_data/train\")\n",
    "path_pickle_test = join(path_root, \"cache/two_domain/split_data/test\")\n",
    "path_pickle_baseline_sim = join(path_root, \"cache/two_domain/item_based_sim/base_sim\")"
   ]
  },
  {
   "cell_type": "code",
   "execution_count": 4,
   "metadata": {
    "collapsed": false
   },
   "outputs": [],
   "source": [
    "testRDD = sc.pickleFile(path_pickle_test)\n",
    "item2item_simRDD = sc.pickleFile(path_pickle_baseline_sim)"
   ]
  },
  {
   "cell_type": "code",
   "execution_count": 5,
   "metadata": {
    "collapsed": false
   },
   "outputs": [],
   "source": [
    "sqlContext = SQLContext(sc)\n",
    "itemsim = ItemBasedSim(method='cosine', num_atleast=50)\n",
    "\n",
    "item2item_simDF = itemsim.build_sim_DF(item2item_simRDD)\n",
    "\n",
    "item2item_simDF.registerTempTable(\"sim_table\")\n",
    "BB_item_list = sqlContext.sql(\n",
    "    \"SELECT DISTINCT id1 FROM sim_table WHERE label = 1\").map(\n",
    "    lambda line: line.id1).collect()\n",
    "BB_item_bd = sc.broadcast(BB_item_list)\n",
    "\n",
    "item_simRDD = itemsim.get_item_sim(item2item_simRDD)"
   ]
  },
  {
   "cell_type": "code",
   "execution_count": 6,
   "metadata": {
    "collapsed": false
   },
   "outputs": [],
   "source": [
    "top_k = 10\n",
    "extend_sim = ExtendSim(top_k)\n",
    "\n",
    "classfied_items = extend_sim.find_knn_items(item_simRDD, BB_item_bd).cache()"
   ]
  },
  {
   "cell_type": "code",
   "execution_count": 7,
   "metadata": {
    "collapsed": false
   },
   "outputs": [],
   "source": [
    "def extract_siminfo(sc, classfied_items):\n",
    "    \"\"\"broadcast knn item information.\n",
    "    arg:\n",
    "        classfied_items: iid, (BB_BB, BB_NB), (NB_BB, NB_NN)\n",
    "    return:\n",
    "        knn_BB_bd: {BB iid: {NB iid: (sum, mutu, frac_mutu)}}\n",
    "        knn_NB_bd: {NB iid: {iid: (sum, mutu, frac_mutu)}}\n",
    "    \"\"\"\n",
    "    BB_info = classfied_items.map(\n",
    "        lambda line: (line[0], line[1])).filter(\n",
    "        lambda line: line[1] is not None).cache()\n",
    "\n",
    "    NB_info = classfied_items.map(\n",
    "        lambda line: (line[0], line[2])).filter(\n",
    "        lambda line: line[1] is not None).cache()\n",
    "\n",
    "    BB_items_knn = BB_info.map(\n",
    "        lambda line: (line[0], dict(\n",
    "                (l[0], l[1:]) for l in line[1][0] + line[1][1]))\n",
    "    ).collectAsMap()\n",
    "\n",
    "    NB_items_knn = NB_info.map(\n",
    "        lambda line: (line[0], dict(\n",
    "                (l[0], l[1:]) for l in line[1][0] + line[1][1]))\n",
    "    ).collectAsMap()\n",
    "\n",
    "    knn_BB_bd = sc.broadcast(BB_items_knn)\n",
    "    knn_NB_bd = sc.broadcast(NB_items_knn)\n",
    "    return BB_info, NB_info, knn_BB_bd, knn_NB_bd\n",
    "\n",
    "BB_info, NB_info, knn_BB_bd, knn_NB_bd = extract_siminfo(sc, classfied_items)"
   ]
  },
  {
   "cell_type": "code",
   "execution_count": 8,
   "metadata": {
    "collapsed": false
   },
   "outputs": [],
   "source": [
    "def combine_BB_withother_in_singledomain(iter_items):\n",
    "    \"\"\"combine BB item with other items for each domain.\n",
    "    return:\n",
    "        NB_NN iid, [(BB iid, [NB_NN iid*])*]\n",
    "    \"\"\"\n",
    "    for iid, (NB_BB, NB_NN) in iter_items:\n",
    "        \"\"\"\n",
    "        NB_BB: [(BB iid, sim, mutu, frac_mutu)*]\n",
    "        NB_NN: [(NN iid, sim, mutu, frac_mutu)*]\n",
    "        \"\"\"\n",
    "        for info in NB_BB:\n",
    "            yield info[0], [(iid, [line[0] for line in NB_NN])]\n",
    "\n",
    "BB_other_intra = NB_info.mapPartitions(\n",
    "    combine_BB_withother_in_singledomain).reduceByKey(lambda a, b: a + b).cache()"
   ]
  },
  {
   "cell_type": "code",
   "execution_count": 39,
   "metadata": {
    "collapsed": true
   },
   "outputs": [],
   "source": [
    "        def get_final_sim(paths):\n",
    "            final_score = []\n",
    "            local_db = {}\n",
    "            knn_BB_iids = knn_BB_bd.value.keys()\n",
    "            knn_NB_iids = knn_NB_bd.value.keys()\n",
    "            for path in paths:\n",
    "                iid_pairs = zip(path[0: len(path) - 1], path[1: len(path)])\n",
    "                tmp_info = []\n",
    "                for iid1, iid2 in iid_pairs:\n",
    "                    if (iid1, iid2) not in local_db.keys():\n",
    "                        if iid1 in knn_BB_iids \\\n",
    "                                and iid2 in knn_BB_bd.value[iid1]:\n",
    "                            tmp = knn_BB_bd.value[iid1][iid2]\n",
    "                        elif iid2 in knn_BB_iids \\\n",
    "                                and iid1 in knn_BB_bd.value[iid2]:\n",
    "                            tmp = knn_BB_bd.value[iid2][iid1]\n",
    "                        elif iid1 in knn_NB_iids \\\n",
    "                                and iid2 in knn_NB_bd.value[iid1]:\n",
    "                            tmp = knn_NB_bd.value[iid1][iid2]\n",
    "                        elif iid2 in knn_NB_iids \\\n",
    "                                and iid1 in knn_NB_bd.value[iid2]:\n",
    "                            tmp = knn_NB_bd.value[iid2][iid1]\n",
    "                        local_db.update({(iid1, iid2): tmp})\n",
    "                    tmp_info += [local_db[(iid1, iid2)]]\n",
    "                sim_info = [l[0] for l in tmp_info]\n",
    "                mutu_info = [l[1] for l in tmp_info]\n",
    "                frac_mutu = [l[2] for l in tmp_info]\n",
    "                final_score.append(\n",
    "                    ((path[0], path[-1]), calculate_path_confidence(\n",
    "                        sim_info, mutu_info, frac_mutu)))\n",
    "            return final_score\n",
    "\n",
    "        def extend_BB_source(sourceRDD):\n",
    "            \"\"\"connect BB item in target domain with items in source domain.\n",
    "            (BB_target, BB_source), connections\n",
    "            \"\"\"\n",
    "            def helper(iter_items):\n",
    "                for iid, line in iter_items:\n",
    "                    for v in knn_BB_bd.value[iid].keys():\n",
    "                        if \"T:\" in v:\n",
    "                            yield (v, iid), line\n",
    "            return sourceRDD.mapPartitions(helper)\n",
    "\n",
    "        def extend_BB_target(rdd):\n",
    "            \"\"\"connect BB item in source domain with item in target domain.\n",
    "            (BB_target, BB_source), connections\n",
    "            \"\"\"\n",
    "            def helper(iter_items):\n",
    "                for iid, line in iter_items:\n",
    "                    for v in knn_BB_bd.value[iid].keys():\n",
    "                        if \"S:\" in v:\n",
    "                            yield (iid, v), line\n",
    "            return rdd.mapPartitions(helper)\n",
    "        \n",
    "        def final_nonjoint_extend(nonjoint_BB):\n",
    "            \"\"\"extend path for items that only linked to BB_target.\n",
    "            arg:\n",
    "                nonjoint_BB: (target_iid, source_iid), source_info\n",
    "            \"\"\"\n",
    "            def helper(iter_items):\n",
    "                for iid_pair, source in iter_items:\n",
    "                    \"\"\"iid_pair in the form of (target_iid, source_iid).\n",
    "                    source_path: from BB_target to item in source domain.\n",
    "                    \"\"\"\n",
    "                    source_path = [iid_pair]\n",
    "                    for NB_iid, NN_iids in source:\n",
    "                        source_path += [iid_pair + (NB_iid,)]\n",
    "                        for NN_iid in NN_iids:\n",
    "                            source_path += [iid_pair + (NB_iid, NN_iid)]\n",
    "                    yield get_final_sim(source_path)\n",
    "            return nonjoint_BB.mapPartitions(helper)\n",
    "        \n",
    "        def calculate_path_confidence(sim_info, mutu_info, frac_mutu):\n",
    "            \"\"\"calculate the confidence of the path.\"\"\"\n",
    "            denominator = sum([a * b for a, b in zip(sim_info, mutu_info)])\n",
    "            numerator = sum(mutu_info)\n",
    "            s_p = 1.0 * denominator / numerator if numerator else 0.0\n",
    "            c_p = reduce(lambda a, b: a * b, frac_mutu)\n",
    "            return s_p, c_p\n",
    "    \n",
    "from functools import reduce\n",
    "\n",
    "BB_other_intra_source = BB_other_intra.filter(lambda l: \"S:\" in l[0])\n",
    "BB_other_intra_target = BB_other_intra.filter(lambda l: \"T:\" in l[0])\n",
    "\n",
    "extended_BB_source = extend_BB_source(BB_other_intra_source)\n",
    "extended_BB_target = extend_BB_target(BB_other_intra_target)\n",
    "joined_extended_BB = extended_BB_source.join(extended_BB_target).cache()\n",
    "final_nonjoint_extended = final_nonjoint_extend(extended_BB_source)"
   ]
  },
  {
   "cell_type": "code",
   "execution_count": null,
   "metadata": {
    "collapsed": false
   },
   "outputs": [],
   "source": [
    "    import numpy as np\n",
    "\n",
    "    def get_final_extension(cross_extended):\n",
    "        \"\"\"Deal with the case of multiple path among an item-item pair.\n",
    "            If item-item pair exists several paths,\n",
    "            then use s_p and c_p to get the final similarity\n",
    "        Args:\n",
    "            cross_extended: in the form of [((iid1, iid2), (s_p, c_p))*]\n",
    "        Returns:\n",
    "            xsim: in the form of (iid1, [(iid2, sim)*])\n",
    "        \"\"\"\n",
    "        def swap_info(line):\n",
    "            \"\"\"adjust the position of the information.\"\"\"\n",
    "            iids, info = line\n",
    "            return iids[0], [(iids[1], ) + info]\n",
    "\n",
    "        def get_sim(pairs):\n",
    "            similarity = np.array([pair[0] for pair in pairs])\n",
    "            certainty = np.array([pair[1] for pair in pairs])\n",
    "            return 1.0 * similarity.dot(certainty) / np.sum(certainty)\n",
    "\n",
    "        def merge(iter_items):\n",
    "            for iid, info in iter_items:\n",
    "                local_db = dict()\n",
    "                final_sim = []\n",
    "                for pair in info:\n",
    "                    if pair[0] not in local_db.keys():\n",
    "                        local_db.update({pair[0]: [pair[1:]]})\n",
    "                    else:\n",
    "                        local_db[pair[0]] += [pair[1:]]\n",
    "                for key in local_db.keys():\n",
    "                    final_sim.append((key, get_sim(local_db[key])))\n",
    "                yield iid, final_sim\n",
    "\n",
    "        return cross_extended.flatMap(lambda line: line).map(swap_info).reduceByKey(\n",
    "            lambda a, b: a + b).mapPartitions(merge)\n",
    "\n",
    "# final_nonjoint_extended.flatMap(lambda line: line).take(1)\n",
    "get_final_extension(final_nonjoint_extended).take(1)"
   ]
  },
  {
   "cell_type": "code",
   "execution_count": null,
   "metadata": {
    "collapsed": false
   },
   "outputs": [],
   "source": [
    "knn_NB_bd.value['S:B00005K2YG']"
   ]
  },
  {
   "cell_type": "code",
   "execution_count": null,
   "metadata": {
    "collapsed": false
   },
   "outputs": [],
   "source": [
    "    def get_final_extension(self, cross_extended):\n",
    "        \"\"\"Deal with the case of multiple path among an item-item pair.\n",
    "            If item-item pair exists several paths,\n",
    "            then use s_p and c_p to get the final similarity\n",
    "        Args:\n",
    "            cross_extended: in the form of [((iid1, iid2), (s_p, c_p))*]\n",
    "        Returns:\n",
    "            xsim: in the form of (iid1, [(iid2, sim)*])\n",
    "        \"\"\"\n",
    "        def swap_info(line):\n",
    "            \"\"\"adjust the position of the information.\"\"\"\n",
    "            iids, info = line\n",
    "            return iids[0], [(iids[1], ) + info]\n",
    "\n",
    "        def get_sim(pairs):\n",
    "            similarity = np.array([pair[0] for pair in pairs])\n",
    "            certainty = np.array([pair[1] for pair in pairs])\n",
    "            return 1.0 * similarity.dot(certainty) / np.sum(certainty)\n",
    "\n",
    "        def merge(iter_items):\n",
    "            for iid, info in iter_items:\n",
    "                local_db = dict()\n",
    "                final_sim = []\n",
    "                for pair in info:\n",
    "                    if pair[0] not in local_db.keys():\n",
    "                        local_db.update({pair[0]: [pair[1:]]})\n",
    "                    else:\n",
    "                        local_db[pair[0]] += [pair[1:]]\n",
    "                for key in local_db.keys():\n",
    "                    final_sim.append((key, get_sim(local_db[key])))\n",
    "                yield iid, final_sim\n",
    "\n",
    "        return cross_extended.flatMap(swap_info).reduceByKey(\n",
    "            lambda a, b: a + b).mapPartitions(merge)\n",
    "    \n"
   ]
  },
  {
   "cell_type": "code",
   "execution_count": null,
   "metadata": {
    "collapsed": false
   },
   "outputs": [],
   "source": [
    "extended_BB_target.take(1)"
   ]
  },
  {
   "cell_type": "code",
   "execution_count": null,
   "metadata": {
    "collapsed": true
   },
   "outputs": [],
   "source": []
  }
 ],
 "metadata": {
  "kernelspec": {
   "display_name": "Python 3",
   "language": "python",
   "name": "python3"
  },
  "language_info": {
   "codemirror_mode": {
    "name": "ipython",
    "version": 3
   },
   "file_extension": ".py",
   "mimetype": "text/x-python",
   "name": "python",
   "nbconvert_exporter": "python",
   "pygments_lexer": "ipython3",
   "version": "3.5.2"
  }
 },
 "nbformat": 4,
 "nbformat_minor": 1
}

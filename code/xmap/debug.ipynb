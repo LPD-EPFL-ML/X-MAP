{
 "cells": [
  {
   "cell_type": "code",
   "execution_count": 1,
   "metadata": {
    "collapsed": true
   },
   "outputs": [],
   "source": [
    "import pyspark\n",
    "sc = pyspark.SparkContext('local[*]')"
   ]
  },
  {
   "cell_type": "code",
   "execution_count": 12,
   "metadata": {
    "collapsed": false
   },
   "outputs": [
    {
     "name": "stdout",
     "output_type": "stream",
     "text": [
      "The autoreload extension is already loaded. To reload it, use:\n",
      "  %reload_ext autoreload\n"
     ]
    }
   ],
   "source": [
    "%load_ext autoreload\n",
    "%autoreload 2\n",
    "\n",
    "from os.path import join\n",
    "\n",
    "import auxiliary as auxi\n",
    "from cleanData import CleanData\n",
    "from splitData import SplitData\n",
    "from itemBasedSim import ItemBasedSim\n",
    "\n",
    "from pyspark.sql import SQLContext"
   ]
  },
  {
   "cell_type": "code",
   "execution_count": 3,
   "metadata": {
    "collapsed": false
   },
   "outputs": [],
   "source": [
    "path_root = \"/home/jovyan/work/data\"\n",
    "path_pickle_train = join(path_root, \"cache/two_domain/split_data/train\")\n",
    "path_pickle_test = join(path_root, \"cache/two_domain/split_data/test\")"
   ]
  },
  {
   "cell_type": "code",
   "execution_count": 4,
   "metadata": {
    "collapsed": false
   },
   "outputs": [],
   "source": [
    "trainRDD = sc.pickleFile(path_pickle_train)\n",
    "trainRDD = sc.parallelize(trainRDD.take(1000))\n",
    "testRDD = sc.pickleFile(path_pickle_test)"
   ]
  },
  {
   "cell_type": "code",
   "execution_count": 5,
   "metadata": {
    "collapsed": false
   },
   "outputs": [],
   "source": [
    "itembasedsim = ItemBasedSim(method='cosine', num_atleast=50)\n",
    "universal_user_info = itembasedsim.get_universal_user_info(trainRDD)\n",
    "user_info = sc.broadcast(universal_user_info.collectAsMap())\n",
    "\n",
    "universal_item_info = itembasedsim.get_universal_item_info(trainRDD, user_info)\n",
    "item_info = sc.broadcast(universal_item_info.collectAsMap())"
   ]
  },
  {
   "cell_type": "code",
   "execution_count": 13,
   "metadata": {
    "collapsed": false
   },
   "outputs": [],
   "source": [
    "item2item_simRDD = itembasedsim.calculate_item2item_sim(trainRDD, item_info, user_info).cache()"
   ]
  },
  {
   "cell_type": "code",
   "execution_count": 14,
   "metadata": {
    "collapsed": true
   },
   "outputs": [],
   "source": [
    "sqlContext                      = SQLContext(sc)\n",
    "\n",
    "item2item_simDF = itembasedsim.build_sim_DF(item2item_simRDD)\n",
    "\n",
    "item2item_simDF.registerTempTable(\"sim_table\")\n",
    "BB_item_list = sqlContext.sql(\n",
    "    \"SELECT DISTINCT id1 FROM sim_table WHERE label = 1\").map(\n",
    "    lambda line: line.id1).collect()\n",
    "BB_item_bd = sc.broadcast(BB_item_list)\n",
    "\n",
    "itemSimRDD = itembasedsim.get_item_sim(item2item_simRDD)"
   ]
  },
  {
   "cell_type": "code",
   "execution_count": null,
   "metadata": {
    "collapsed": true
   },
   "outputs": [],
   "source": []
  }
 ],
 "metadata": {
  "kernelspec": {
   "display_name": "Python 3",
   "language": "python",
   "name": "python3"
  },
  "language_info": {
   "codemirror_mode": {
    "name": "ipython",
    "version": 3
   },
   "file_extension": ".py",
   "mimetype": "text/x-python",
   "name": "python",
   "nbconvert_exporter": "python",
   "pygments_lexer": "ipython3",
   "version": "3.5.2"
  }
 },
 "nbformat": 4,
 "nbformat_minor": 1
}
